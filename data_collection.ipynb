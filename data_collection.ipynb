{
  "cells": [
    {
      "cell_type": "markdown",
      "metadata": {
        "id": "ZFJA8x9rws3z"
      },
      "source": [
        "# **Road Following - Collecting Data (Multi-Target)**\n",
        "Use ``regression`` to predict the target location and implement line patrol"
      ]
    },
    {
      "cell_type": "code",
      "execution_count": null,
      "metadata": {
        "id": "owxalK9dws31"
      },
      "outputs": [],
      "source": [
        "#Add search path\n",
        "import sys\n",
        "sys.path.append('../')\n",
        "# IPython Libraries for display and widgets\n",
        "import ipywidgets\n",
        "import traitlets\n",
        "import ipywidgets.widgets as widgets\n",
        "from jupyter_clickable_image_widget import ClickableImageWidget\n",
        "from IPython.display import display\n",
        "\n",
        "\n",
        "# Python basic pakcages for image annotation\n",
        "from uuid import uuid1 #命名唯一ID\n",
        "import os\n",
        "import json\n",
        "import glob\n",
        "import datetime\n",
        "import numpy as np\n",
        "import cv2\n",
        "import time\n",
        "\n",
        "# Camera for Jetracer\n",
        "from camera import Camera, bgr8_to_jpeg"
      ]
    },
    {
      "cell_type": "markdown",
      "metadata": {
        "id": "6a38ncBows32"
      },
      "source": [
        "### **Open camera**"
      ]
    },
    {
      "cell_type": "code",
      "execution_count": null,
      "metadata": {
        "id": "f4xqnAcwws32"
      },
      "outputs": [],
      "source": [
        "image_width = 224#\n",
        "image_height = 224#\n",
        "display_width = 224\n",
        "display_height = 224\n",
        "camera_fps = 30"
      ]
    },
    {
      "cell_type": "code",
      "execution_count": null,
      "metadata": {
        "id": "qcHRfe22ws32"
      },
      "outputs": [],
      "source": [
        "camera = Camera(width=image_width, height=image_height, fps=camera_fps)"
      ]
    },
    {
      "cell_type": "markdown",
      "metadata": {
        "id": "8eOzK9Ckws32"
      },
      "source": [
        "### **Define target collector**\n",
        "Define collector class"
      ]
    },
    {
      "cell_type": "code",
      "execution_count": null,
      "metadata": {
        "id": "94Z4umQPws33"
      },
      "outputs": [],
      "source": [
        "class CreateTargetWidget():\n",
        "    def __init__(self, camera, display_width, display_height, name):\n",
        "\n",
        "        self.camera = camera\n",
        "        self.width = display_width\n",
        "        self.height = display_height\n",
        "        self.name = name\n",
        "\n",
        "        self.target_widget = ClickableImageWidget(width=self.width, height=self.height)\n",
        "        self.x_slider = widgets.FloatSlider(min=-1.0, max=1.0, step=0.001, value=0.0)\n",
        "        self.y_slider = widgets.FloatSlider(min=-1.0, max=1.0, step=0.001, value=0.0)\n",
        "        time.sleep(1)\n",
        "\n",
        "        traitlets.dlink((self.camera, 'value'), (self.target_widget, 'value'), transform=self.display_xy)\n",
        "        self.target_widget.on_msg(self.change_xy)\n",
        "\n",
        "\n",
        "\n",
        "    def display_xy(self, camera_image):\n",
        "        #getting data\n",
        "        image = np.copy(camera_image)\n",
        "        image = cv2.resize(image, (self.width, self.height))\n",
        "        #support line\n",
        "        image = cv2.line(image, (int(self.width/2), 0), (int(self.width/2), self.height-1), (200, 200, 200),2)\n",
        "        image = cv2.line(image, (0, int(self.height/2)), (self.width-1, int(self.height/2)), (200, 200, 200),2)\n",
        "\n",
        "        x = self.x_slider.value\n",
        "        y = self.y_slider.value\n",
        "        x = int((x+1) * self.width / 2)\n",
        "        y = int((y+1) * self.height / 2)\n",
        "        image = cv2.circle(image, (x, y), 8, (0, 255, 0), 3)\n",
        "        image = cv2.circle(image, (int(self.width/2), self.height-1), 8, (0, 0,255), 3)\n",
        "        image = cv2.line(image, (x,y), (int(self.width/2), self.height-1), (255,0,0), 3)\n",
        "        jpeg_image = bgr8_to_jpeg(image)\n",
        "        return jpeg_image\n",
        "\n",
        "    def change_xy(self, _, content, msg):\n",
        "        if content['event'] == 'click':\n",
        "            data = content['eventData']\n",
        "            x = round(data['offsetX']/(self.width/2) - 1, 2)\n",
        "            #y = round((data['offsetY'] - 112)*2/224, 2)\n",
        "            y = round(data['offsetY']/(self.height/2) - 1, 2)\n",
        "            #text.value += 'offset: (%d, %d) slider: (%.2f, %.2f)'%(data['offsetX'],data['offsetY'], x, y)\n",
        "            #text.value += '(%d, %d)\\n'%(data['offsetX'],data['offsetY'])\n",
        "            self.x_slider.value = x\n",
        "            self.y_slider.value = y\n",
        "    def display(self):\n",
        "        return ipywidgets.VBox([\n",
        "            ipywidgets.Label('-'*20+self.name+'-'*20),\n",
        "            self.target_widget,\n",
        "            self.x_slider,\n",
        "            self.y_slider\n",
        "        ])\n",
        "\n",
        "    def value(self):\n",
        "        return [self.x_slider.value, self.y_slider.value]\n",
        ""
      ]
    },
    {
      "cell_type": "markdown",
      "metadata": {
        "id": "_v7JXIaaws33"
      },
      "source": [
        "Instantiate the target collector\n",
        "\n"
      ]
    },
    {
      "cell_type": "code",
      "execution_count": null,
      "metadata": {
        "id": "7F2DgW2Fws33"
      },
      "outputs": [],
      "source": [
        "target_names = ['main(left)', 'secondary(right)']\n",
        "\n",
        "target_widgets = []\n",
        "for name in target_names:\n",
        "    target_widgets.append(CreateTargetWidget(camera, display_width, display_height, name))"
      ]
    },
    {
      "cell_type": "markdown",
      "metadata": {
        "id": "K6eoq66Xws33"
      },
      "source": [
        "visualization"
      ]
    },
    {
      "cell_type": "code",
      "execution_count": null,
      "metadata": {
        "colab": {
          "referenced_widgets": [
            "2114c6115c3849b6883fd5ad8edc0668"
          ]
        },
        "id": "kJnelu5Dws33",
        "outputId": "4bcfb576-20dc-4b3b-b401-cef591a96713"
      },
      "outputs": [
        {
          "data": {
            "application/vnd.jupyter.widget-view+json": {
              "model_id": "2114c6115c3849b6883fd5ad8edc0668",
              "version_major": 2,
              "version_minor": 0
            },
            "text/plain": [
              "HBox(children=(VBox(children=(Label(value='--------------------main(left)--------------------'), ClickableImag…"
            ]
          },
          "metadata": {},
          "output_type": "display_data"
        }
      ],
      "source": [
        "display(ipywidgets.HBox([\n",
        "    target_widgets[0].display(),\n",
        "    target_widgets[1].display()\n",
        "]))"
      ]
    },
    {
      "cell_type": "markdown",
      "metadata": {
        "id": "ZpF9Keuzws34"
      },
      "source": [
        "### **save data**\n"
      ]
    },
    {
      "cell_type": "code",
      "execution_count": null,
      "metadata": {
        "id": "b-uCiGVDws34",
        "outputId": "29e0e25a-d686-4c62-8bf6-0c26946cfae9"
      },
      "outputs": [
        {
          "name": "stdout",
          "output_type": "stream",
          "text": [
            "Directories not created becasue they already exist\n"
          ]
        }
      ],
      "source": [
        "DATASET_DIR = 'data/dataset_xy_1'\n",
        "\n",
        "# create folder\n",
        "try:\n",
        "    os.makedirs(DATASET_DIR)\n",
        "except FileExistsError:\n",
        "    print('Directories not created becasue they already exist')\n",
        "\n",
        "# counting tool\n",
        "count_widget = widgets.IntText(description='count', value=len(glob.glob(os.path.join(DATASET_DIR, '*.jpg'))))\n",
        "# save\n",
        "save_widget = widgets.Button(description='SAVE',button_style='warning')\n",
        "\n",
        "def xy_uuid(target_widgets):\n",
        "    save_name = 'xy_'\n",
        "    for target in target_widgets:\n",
        "        data = target.value()\n",
        "        save_name +='%03d_%03d_'%(data[0] * 50 + 50, data[1] * 50 + 50)\n",
        "    save_name += '%s'%(uuid1())\n",
        "    #return 'xy_%03d_%03d_%s' % (x * 50 + 50, y * 50 + 50, uuid1())\n",
        "    return save_name\n",
        "\n",
        "#save images\n",
        "def save_snapshot():\n",
        "    uuid = xy_uuid(target_widgets)\n",
        "    image_path = os.path.join(DATASET_DIR, uuid + '.jpg')\n",
        "    with open(image_path, 'wb') as f:\n",
        "        image = np.copy(camera.value)\n",
        "        #image = correctImage(image, coefficient_group)\n",
        "        #image = cv2.resize(image, (save_width, save_height))\n",
        "        image = bgr8_to_jpeg(image)\n",
        "        f.write(image)\n",
        "    count_widget.value = len(glob.glob(os.path.join(DATASET_DIR, '*.jpg')))\n",
        "\n",
        "def widget_save(change):\n",
        "    save_snapshot()\n",
        "\n",
        "#save function\n",
        "save_widget.on_click(widget_save)"
      ]
    },
    {
      "cell_type": "code",
      "execution_count": null,
      "metadata": {
        "id": "degtms62ws36"
      },
      "outputs": [],
      "source": [
        "camera.stop()"
      ]
    }
  ],
  "metadata": {
    "kernelspec": {
      "display_name": "Python 3",
      "language": "python",
      "name": "python3"
    },
    "language_info": {
      "codemirror_mode": {
        "name": "ipython",
        "version": 3
      },
      "file_extension": ".py",
      "mimetype": "text/x-python",
      "name": "python",
      "nbconvert_exporter": "python",
      "pygments_lexer": "ipython3",
      "version": "3.8.5"
    },
    "colab": {
      "provenance": []
    }
  },
  "nbformat": 4,
  "nbformat_minor": 0
}