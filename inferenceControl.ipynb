{
  "cells": [
    {
      "cell_type": "markdown",
      "metadata": {
        "id": "pkoZRXB13bud"
      },
      "source": [
        "# **Road Following**\n",
        "\n",
        "In this notebook, we will use the trained model to predict and control the **Jetracer** motion"
      ]
    },
    {
      "cell_type": "code",
      "execution_count": null,
      "metadata": {
        "id": "u90AbUmL3bue"
      },
      "outputs": [],
      "source": [
        "import sys\n",
        "sys.path.append('../')\n",
        "from IPython.display import display\n",
        "import ipywidgets\n",
        "import traitlets\n",
        "import time\n",
        "from camera import Camera, bgr8_to_jpeg"
      ]
    },
    {
      "cell_type": "markdown",
      "metadata": {
        "id": "w2lRyFui3bug"
      },
      "source": [
        "## **1. Creat JetRacer**"
      ]
    },
    {
      "cell_type": "code",
      "execution_count": null,
      "metadata": {
        "id": "XuvQQ4F63bug"
      },
      "outputs": [],
      "source": [
        "from jetracer.nvidia_racecar import NvidiaRacecar\n",
        "\n",
        "car = NvidiaRacecar()"
      ]
    },
    {
      "cell_type": "code",
      "execution_count": null,
      "metadata": {
        "id": "5aIZWIl_3buh"
      },
      "outputs": [],
      "source": [
        "'''Release the valve limit and control the speed completely by the interactive control'''\n",
        "car.throttle_gain = 1\n",
        "car.steering_gain = -1\n",
        "'''Set the default offset of the front wheels'''\n",
        "car.steering_offset = -0.037"
      ]
    },
    {
      "cell_type": "markdown",
      "metadata": {
        "id": "oMUpP8Qk3buh"
      },
      "source": [
        "#### 1.1 **Create an interactive slider to control Jetracer**\n",
        "\n",
        "``throttle_slider`` Manually set the throttle size\n",
        "\n",
        "``steering_slider`` Manually set the steering angle size"
      ]
    },
    {
      "cell_type": "code",
      "execution_count": null,
      "metadata": {
        "id": "FDwaw6d63buh"
      },
      "outputs": [],
      "source": [
        "throttle_switch = ipywidgets.FloatSlider(min=0, max=1, step=1, value=0) # Gaspedal (Pedal)\n",
        "steering_slider = ipywidgets.FloatSlider(min=-0.8, max=0.8, step=0.1, value=0) # rotate\n",
        "car_safe_button = ipywidgets.Button(description='SAFE',button_style='warning', layout=ipywidgets.Layout(width='300px', height='28px'))\n",
        "\n",
        "def car_safe(change):\n",
        "    car.throttle = 0\n",
        "    car.steering = 0\n",
        "    throttle_switch.value = 0\n",
        "    steering_slider.value = 0\n",
        "\n",
        "jetracer_control_widgets = ipywidgets.VBox([\n",
        "    ipywidgets.Label('-'*24+' JetRacer control '+'-'*40),\n",
        "    ipywidgets.HBox([\n",
        "        ipywidgets.VBox([\n",
        "            ipywidgets.Label('pause/start'),ipywidgets.Label('rotate')\n",
        "        ]),\n",
        "        ipywidgets.VBox([\n",
        "            throttle_switch, steering_slider\n",
        "        ])\n",
        "    ]),\n",
        "    car_safe_button\n",
        "])\n",
        "\n",
        "#display(jetracer_control_widgets)"
      ]
    },
    {
      "cell_type": "markdown",
      "metadata": {
        "id": "wcByy6Cc3buh"
      },
      "source": [
        "#### 1.2 **Controls associated with JetRacer instances**"
      ]
    },
    {
      "cell_type": "code",
      "execution_count": null,
      "metadata": {
        "id": "ieAqIn0H3buh"
      },
      "outputs": [],
      "source": [
        "#traitlets.dlink((throttle_slider, 'value'), (car, 'throttle'), transform=lambda x: x)\n",
        "traitlets.dlink((steering_slider, 'value'), (car, 'steering'), transform=lambda x: x)\n",
        "car_safe_button.on_click(car_safe)"
      ]
    },
    {
      "cell_type": "markdown",
      "metadata": {
        "id": "9f5XxuIY3bui"
      },
      "source": [
        "## **2. Creating a Camera instance**\n",
        "Set the image acquired by the camera to be a larger image, and later resize it to **resnet18** Supported inputs **224 X 224**\n",
        "\n",
        "The size of the image acquired by the camera should apply to the input the camera is calibrated for (default is 608 * 342)"
      ]
    },
    {
      "cell_type": "code",
      "execution_count": null,
      "metadata": {
        "id": "1WJet1au3bui"
      },
      "outputs": [],
      "source": [
        "image_width = 448#224\n",
        "image_height = 448#224\n",
        "display_width = 224\n",
        "display_height = 224\n",
        "camera_fps = 30"
      ]
    },
    {
      "cell_type": "code",
      "execution_count": null,
      "metadata": {
        "id": "jclAXMpY3bui"
      },
      "outputs": [],
      "source": [
        "camera = Camera(width=image_width, height=image_height, fps=camera_fps)"
      ]
    },
    {
      "cell_type": "markdown",
      "metadata": {
        "id": "Mti_fJ993bui"
      },
      "source": [
        "## **3. Load the model**\n",
        "\n",
        "``target_number`` Set output target number\n",
        "\n",
        "> Ensure that training has been completed and generate ``best_steering_model_xy.pth``"
      ]
    },
    {
      "cell_type": "code",
      "execution_count": null,
      "metadata": {
        "id": "DFHopb0-3bui"
      },
      "outputs": [],
      "source": [
        "model_path = 'model/best_follow_xy1_double_target_50epochs_trt.pth'\n",
        "target_number = 2"
      ]
    },
    {
      "cell_type": "markdown",
      "metadata": {
        "id": "_KkyVz0d3buj"
      },
      "source": [
        "## 3.2 **Load models**"
      ]
    },
    {
      "cell_type": "code",
      "execution_count": null,
      "metadata": {
        "id": "lQnGNDQx3buj"
      },
      "outputs": [],
      "source": [
        "import torch\n",
        "from torch2trt import TRTModule\n",
        "\n",
        "model = TRTModule()\n",
        "model.load_state_dict(torch.load(model_path))\n",
        "device = torch.device('cuda')"
      ]
    },
    {
      "cell_type": "markdown",
      "metadata": {
        "id": "h1ycUXxF3buj"
      },
      "source": [
        "## **4. Creation of pre-processing**"
      ]
    },
    {
      "cell_type": "code",
      "execution_count": null,
      "metadata": {
        "id": "CQssW-Z33buj"
      },
      "outputs": [],
      "source": [
        "import torchvision.transforms as transforms\n",
        "import torch.nn.functional as F\n",
        "import cv2\n",
        "import PIL.Image\n",
        "import numpy as np"
      ]
    },
    {
      "cell_type": "markdown",
      "metadata": {
        "id": "oLheBCPh3buj"
      },
      "source": [
        "#### **Transforms data acquired from the camera into a format supported by the model.**\n",
        "\n",
        "1. transform from HWC layout to CHW layout\n",
        "2. remap from **[0, 255]** to **[0, 1]** using the same parameter normalization as in training\n",
        "3. transfer data from **CPU** to **GPU**.\n",
        "4. add batch size"
      ]
    },
    {
      "cell_type": "code",
      "execution_count": null,
      "metadata": {
        "id": "RuCi4xkB3buj"
      },
      "outputs": [],
      "source": [
        "mean = torch.Tensor([0.485, 0.456, 0.406]).cuda().half()\n",
        "std = torch.Tensor([0.229, 0.224, 0.225]).cuda().half()\n",
        "\n",
        "def preprocess(image):\n",
        "    image = PIL.Image.fromarray(image)\n",
        "    #image = transforms.functional.resize(image,(224, 224))\n",
        "    image = transforms.functional.to_tensor(image).to(device).half()\n",
        "    image.sub_(mean[:, None, None]).div_(std[:, None, None])\n",
        "    return image[None, ...]"
      ]
    },
    {
      "cell_type": "markdown",
      "metadata": {
        "id": "QvAVAm4T3buk"
      },
      "source": [
        "## **5. Creation of control functions**\n",
        "### **5.1 PID control of rotation**"
      ]
    },
    {
      "cell_type": "code",
      "execution_count": null,
      "metadata": {
        "id": "fqc0wGdz3buk"
      },
      "outputs": [],
      "source": [
        "class SteeringPID(traitlets.HasTraits):\n",
        "    Kp_bias = traitlets.Float()# Proportional gain bias\n",
        "    Kp_factor = traitlets.Float()# Proportional gain factor\n",
        "    Ki = traitlets.Float()# Integral gain\n",
        "    Kd = traitlets.Float()# Derivative gain\n",
        "    bias = traitlets.Float()# Bias gain\n",
        "\n",
        "    def __init__(self, max_out, min_out, windup_guard):\n",
        "        self.max_out = max_out # Maximum output of PID algorithm\n",
        "        self.min_out = min_out # Minimum output of PID algorithm\n",
        "        self.integral_error = 0 # Accumulated error\n",
        "        self.last_error = 0 # Last error\n",
        "        self.current_time = time.time() # Current time\n",
        "        self.last_time = self.current_time\n",
        "        self.setPoint = 0.0\n",
        "        self.windup_guard = windup_guard # Maximum integral term\n",
        "        self.new_Kp = 0.0\n",
        "\n",
        "    def calculate(self, pv):\n",
        "        '''Calculate PID based on input error'''\n",
        "        error = self.setPoint - pv\n",
        "\n",
        "        self.current_time = time.time()\n",
        "        delta_time = self.current_time - self.last_time\n",
        "\n",
        "        self.new_Kp = (error*error)*self.Kp_factor + self.Kp_bias\n",
        "        P_out = error* self.new_Kp # Proportional term\n",
        "\n",
        "        self.integral_error += error * delta_time\n",
        "        if self.integral_error < -self.windup_guard:\n",
        "            self.integral_error = -self.windup_guard\n",
        "        elif self.integral_error > self.windup_guard:\n",
        "            self.integral_error = self.windup_guard\n",
        "        I_out = self.Ki * self.integral_error # Integral term\n",
        "\n",
        "        derivative = (error - self.last_error) / delta_time # Derivative term\n",
        "        D_out = self.Kd * derivative\n",
        "\n",
        "        PID_out = P_out + I_out + D_out + self.bias # Calculate final PID output\n",
        "\n",
        "        # Check upper and lower bounds\n",
        "        if PID_out > self.max_out:\n",
        "            PID_out = self.max_out\n",
        "        elif PID_out < self.min_out:\n",
        "            PID_out = self.min_out\n",
        "\n",
        "        self.last_error = error # Save current error for next calculation\n",
        "        self.last_time = self.current_time # Save last timestamp\n",
        "\n",
        "        return PID_out\n",
        "\n",
        "    def reset(self):\n",
        "        self.integral_error = 0\n",
        "        self.last_error = 0\n",
        "        self.current_time = time.time() # Current time\n",
        "        self.last_time = self.current_time\n",
        "        self.setPoint = 0.0\n",
        "        return 'success reset'\n",
        "    def get_value(self):\n",
        "        return self.new_Kp, self.Ki, self.Kd\n",
        "\n",
        "'''Instantiate PID controller and set maximum steering angle'''\n",
        "steering_controller = SteeringPID(0.9, -0.9, 0.8)"
      ]
    },
    {
      "cell_type": "markdown",
      "metadata": {
        "id": "cON64vyN3buk"
      },
      "source": [
        "### **5.2 Create Interactive Controls for PID Tuning**\n",
        "``steering_kp_slider`` Sets the steering kP (proportional gain), which has a linear relationship with``error``A larger value means faster convergence to the target position (faster error reduction), but setting it too high may cause oscillations around the target.\n",
        "\n",
        "``steering_kd_slider`` Sets the steering kD (derivative gain), which responds to the rate of error change (derivative of error, representing speed). This parameter helps dampen oscillations caused by the P term.\n",
        "\n",
        "``steering_bias_slider`` Sets the bias term. If the robot consistently drifts to one side during operation, adjust this parameter to keep the JetRacer centered."
      ]
    },
    {
      "cell_type": "code",
      "execution_count": null,
      "metadata": {
        "id": "8VHtm3SW3buk"
      },
      "outputs": [],
      "source": [
        "import time\n",
        "\n",
        "steering_Kp_bias_slider = ipywidgets.FloatSlider(min=0.0, max=1.0, step=0.01, value=0.32) # Proportional gain - bias term\n",
        "steering_Kp_factor_slider = ipywidgets.FloatSlider(min=0.0, max=2.0, step=0.1, value=1.10) # Proportional gain - coefficient\n",
        "steering_Ki_slider = ipywidgets.FloatSlider(min=-1.0, max=1.0, step=0.01, value=0) # Integral gain\n",
        "steering_Kd_slider = ipywidgets.FloatSlider(min=-0.6, max=0.6, step=0.01, value=0.02) # Derivative gain\n",
        "steering_bias_slider = ipywidgets.FloatSlider(min=-0.3, max=0.3, step=0.01, value=0.00) # Bias gain\n",
        "pid_reset_button = ipywidgets.Button(description='PID RESET',button_style='warning')\n",
        "\n",
        "def pid_reset(change):\n",
        "    global steering_controller\n",
        "    steering_controller.reset()\n",
        "\n",
        "\n",
        "steering_control_widgets = ipywidgets.VBox([\n",
        "    ipywidgets.Label('-'*38+' Steering PID Control Parameters '+'-'*38),\n",
        "    ipywidgets.HBox([\n",
        "        ipywidgets.VBox([\n",
        "            ipywidgets.Label('Kp(Proportional gain - bias term)'),ipywidgets.Label('Kp(Proportional gain - coefficient)'),\n",
        "            ipywidgets.Label('Ki(Integral gain)'),\n",
        "            ipywidgets.Label('Kd(Derivative gain)/10'),ipywidgets.Label('bias(Bias gain)'),\n",
        "        ]),\n",
        "        ipywidgets.VBox([\n",
        "            steering_Kp_bias_slider, steering_Kp_factor_slider,\n",
        "            steering_Ki_slider, steering_Kd_slider,\n",
        "            steering_bias_slider\n",
        "        ])\n",
        "    ]),\n",
        "    pid_reset_button\n",
        "])\n",
        "\n",
        "\n",
        "time.sleep(1)\n",
        "traitlets.dlink((steering_Kp_bias_slider, 'value'), (steering_controller, 'Kp_bias'), transform=lambda x: x)\n",
        "traitlets.dlink((steering_Kp_factor_slider, 'value'), (steering_controller, 'Kp_factor'), transform=lambda x: x)\n",
        "traitlets.dlink((steering_Ki_slider, 'value'), (steering_controller, 'Ki'), transform=lambda x: x)\n",
        "traitlets.dlink((steering_Kd_slider, 'value'), (steering_controller, 'Kd'), transform=lambda x: x/10)\n",
        "traitlets.dlink((steering_bias_slider, 'value'), (steering_controller, 'bias'), transform=lambda x: x)\n",
        "pid_reset_button.on_click(pid_reset)"
      ]
    },
    {
      "cell_type": "markdown",
      "metadata": {
        "id": "hj1_Huc63bul"
      },
      "source": [
        "### **5.3 Judging straight lines and curves**"
      ]
    },
    {
      "cell_type": "code",
      "execution_count": null,
      "metadata": {
        "id": "1JUjerus3bul"
      },
      "outputs": [],
      "source": [
        "class SpeedControl(traitlets.HasTraits):\n",
        "    straight_throttle = traitlets.Float()\n",
        "    curve_throttle = traitlets.Float()\n",
        "    angle_threshold = traitlets.Float()\n",
        "    min_tracking_number = traitlets.Int()\n",
        "\n",
        "    def __init__(self, max_out, min_out):\n",
        "        self.errors = []\n",
        "        self.curve_straight = 'curve'\n",
        "        self.out = 0.0\n",
        "        self.max_out = max_out\n",
        "        self.min_out = min_out\n",
        "    def calculate(self, angle):\n",
        "        self.errors.append(angle)\n",
        "\n",
        "        self.curve_straight = 'curve'\n",
        "        self.out = self.curve_throttle\n",
        "\n",
        "        if len(self.errors) > self.min_tracking_number:\n",
        "            del(self.errors[0])\n",
        "\n",
        "            if all(_ > -self.angle_threshold for _ in self.errors) and all(_ < self.angle_threshold for _ in self.errors):\n",
        "                self.curve_straight = 'straight'\n",
        "                self.out = self.straight_throttle\n",
        "\n",
        "        if self.out > self.max_out:\n",
        "            self.out = self.max_out\n",
        "        elif self.out < self.min_out:\n",
        "            self.out = self.min_out\n",
        "        return self.out, self.curve_straight\n",
        "\n",
        "    def reset(self):\n",
        "        del(self.errors[:])\n",
        "    def get_value(self):\n",
        "        return self.straight_throttle, self.curve_throttle\n",
        "    def get_threshold(self):\n",
        "        return self.angle_threshold\n",
        "\n",
        "throttle_controller = SpeedControl(0.25, 0.1)"
      ]
    },
    {
      "cell_type": "markdown",
      "metadata": {
        "id": "FZLWyPX63bul"
      },
      "source": [
        "### **5.4 Creating Interactive Controls for Speed Controllers**"
      ]
    },
    {
      "cell_type": "code",
      "execution_count": null,
      "metadata": {
        "id": "2iz2LiY-3bul"
      },
      "outputs": [],
      "source": [
        "straight_throttle_sliber = ipywidgets.FloatSlider(min=0.10, max=0.25, step=0.01, value=0.18)\n",
        "curve_throttle_sliber = ipywidgets.FloatSlider(min=0.10, max=0.25, step=0.01, value=0.14)\n",
        "angle_threshold_sliber = ipywidgets.FloatSlider(min=0.01, max=0.9, step=0.02, value=0.1)\n",
        "min_tracking_number_sliber = ipywidgets.IntSlider(min=0, max=50, step=1, value=10)\n",
        "\n",
        "traitlets.dlink((straight_throttle_sliber, 'value'), (throttle_controller, 'straight_throttle'), transform=lambda x: x)\n",
        "traitlets.dlink((curve_throttle_sliber, 'value'), (throttle_controller, 'curve_throttle'), transform=lambda x: x)\n",
        "traitlets.dlink((angle_threshold_sliber, 'value'), (throttle_controller, 'angle_threshold'), transform=lambda x: x)\n",
        "traitlets.dlink((min_tracking_number_sliber, 'value'), (throttle_controller, 'min_tracking_number'), transform=lambda x: x)\n",
        "\n",
        "throttle_control_widgets = ipywidgets.VBox([\n",
        "    ipywidgets.Label('-'*30+' Longitudinal Throttle Control Parameters '+'-'*30),\n",
        "    ipywidgets.HBox([\n",
        "        ipywidgets.VBox([\n",
        "            ipywidgets.Label('Straight section max speed'),ipywidgets.Label('Curve section max speed'),\n",
        "            ipywidgets.Label('Straight/curve judgment threshold'),ipywidgets.Label('Minimum stable tracking count')\n",
        "        ]),\n",
        "        ipywidgets.VBox([\n",
        "            straight_throttle_sliber, curve_throttle_sliber, angle_threshold_sliber, min_tracking_number_sliber\n",
        "        ])\n",
        "    ])\n",
        "])"
      ]
    },
    {
      "cell_type": "markdown",
      "metadata": {
        "id": "sA4TD_WH3bul"
      },
      "source": [
        "## **6. Visualization of predicted results and operational status**"
      ]
    },
    {
      "cell_type": "markdown",
      "metadata": {
        "id": "jeMsfCjp3bul"
      },
      "source": [
        "#### **6.1 Define interactive controls to display prediction results and running status**\n",
        "\n",
        "``live_widget`` Display image data\n",
        "\n",
        "``live_steering_slider`` Display JetRacer's current turning angle [-1, 1]\n",
        "\n",
        "``live_throttle_slider`` Display JetRacer's current forward direction [-1, 1]\n",
        "\n",
        "> Only display values, manual modification will not affect the values ​​of related variables in the program"
      ]
    },
    {
      "cell_type": "code",
      "execution_count": null,
      "metadata": {
        "id": "OjkE0Vg43bum"
      },
      "outputs": [],
      "source": [
        "live_image_widget = ipywidgets.Image(format='jpeg', width=display_width, height=display_height)\n",
        "\n",
        "live_steering_slider = ipywidgets.FloatSlider(min=-1.0, max=1.0)\n",
        "live_throttle_slider = ipywidgets.FloatSlider(min=0, max=1.0)\n",
        "\n",
        "prediction_text = ipywidgets.Textarea()\n",
        "\n",
        "live_widget = ipywidgets.VBox([\n",
        "    ipywidgets.Label('-'*65+'  LIVE  '+'-'*65),\n",
        "    ipywidgets.HBox([\n",
        "        live_image_widget,\n",
        "        ipywidgets.VBox([\n",
        "            prediction_text,\n",
        "            ipywidgets.HBox([\n",
        "                ipywidgets.VBox([\n",
        "                    ipywidgets.Label('live_steering'), ipywidgets.Label('live_throttle')\n",
        "                ]),\n",
        "                ipywidgets.VBox([\n",
        "                    live_steering_slider,live_throttle_slider\n",
        "                ])\n",
        "            ])\n",
        "        ])\n",
        "    ])\n",
        "\n",
        "])"
      ]
    },
    {
      "cell_type": "markdown",
      "metadata": {
        "id": "2t8QZY703bum"
      },
      "source": [
        "#### **6.2 Creating Angle Threshold Drawing Functions**"
      ]
    },
    {
      "cell_type": "code",
      "execution_count": null,
      "metadata": {
        "id": "23uckBzj3bum"
      },
      "outputs": [],
      "source": [
        "def draw_angle_threshold(image, threshold):\n",
        "    h, w = image.shape[:2]\n",
        "    origin_point = (int(w/2), h-1)\n",
        "    if threshold < np.arctan2(w/2, h) and threshold > np.arctan2(-w/2, h):\n",
        "        left_point = (int(w/2 + h*np.tan(-1*threshold)), 0)\n",
        "        right_point = (int(w/2 + h * np.tan(threshold)), 0)\n",
        "        image = cv2.line(image, origin_point, left_point, (0, 0, 255), 2)\n",
        "        image = cv2.line(image, origin_point, right_point, (0, 0, 255), 2)\n",
        "    else:\n",
        "        left_point = (0, int(h + w / 2 / np.tan(-1*threshold)))\n",
        "        right_point = (w-1, int(h - w / 2 / np.tan(threshold)))\n",
        "        image = cv2.line(image, origin_point, left_point, (0, 255, 0), 2)\n",
        "        image = cv2.line(image, right_point, origin_point, (0, 255, 0), 2)\n",
        "    return image"
      ]
    },
    {
      "cell_type": "markdown",
      "metadata": {
        "id": "CMJmCYQp3bum"
      },
      "source": [
        "#### **6.3 Define the drawing function function**"
      ]
    },
    {
      "cell_type": "code",
      "execution_count": null,
      "metadata": {
        "id": "3sjO4XLv3bun"
      },
      "outputs": [],
      "source": [
        "def drawing(image, targets, fps, angle_threshold):\n",
        "    h, w = image.shape[:2]\n",
        "\n",
        "    image = cv2.line(image, (int(w/2), 0), (int(w/2), h-1), (20, 150, 20),2)\n",
        "    image = cv2.line(image, (0, int(h/2)), (w-1, int(h/2)), (20, 150, 20),2)\n",
        "\n",
        "    image = draw_angle_threshold(image, angle_threshold)\n",
        "\n",
        "    for target in targets:\n",
        "        x, y, color = target\n",
        "        circle_x = int(w * (x + 1.0)/2.0)\n",
        "        circle_y = int(h * (y + 1.0)/2.0)\n",
        "        image = cv2.circle(image, (circle_x, circle_y), 6, color, 2)\n",
        "\n",
        "    #for index, text in enumerate(texts):\n",
        "    image = cv2.putText(image, fps, (10,20), cv2.FONT_HERSHEY_SIMPLEX, 0.5, (255, 255, 255), 1)\n",
        "\n",
        "    return image"
      ]
    },
    {
      "cell_type": "markdown",
      "metadata": {
        "id": "PCMrGD9O3bun"
      },
      "source": [
        "## **7. Creation of the \"processing\" function**"
      ]
    },
    {
      "cell_type": "markdown",
      "metadata": {
        "id": "ElkFdA6B3bun"
      },
      "source": [
        "#### **7.1 Define Processing Functions**\n",
        "\n",
        "1. Preprocess camera image\n",
        "2. Execute neural network\n",
        "3. Calculate approximate steering value\n",
        "4. Control motor using Proportional-Derivative (PD) control\n",
        "\n",
        "\n"
      ]
    },
    {
      "cell_type": "code",
      "execution_count": null,
      "metadata": {
        "id": "tMqdmbRl3bun"
      },
      "outputs": [],
      "source": [
        "steering_controller.reset() # Initialize steering controller\n",
        "throttle_controller.reset() # Initialize throttle controller\n",
        "\n",
        "def execute(change):\n",
        "    global Steering_controller, current_lane\n",
        "    first_time = time.time()\n",
        "    image = change['new']\n",
        "\n",
        "    '''Original image calibration'''\n",
        "    #image = correctImage(image,coefficient_group)\n",
        "    t1 = time.time()\n",
        "\n",
        "    '''Resize image'''\n",
        "    image = cv2.resize(image, (224, 224))\n",
        "    t2 = time.time()\n",
        "\n",
        "    '''Model prediction'''\n",
        "    xy = model(preprocess(image)).detach().float().cpu().numpy().flatten()\n",
        "    t3 = time.time()\n",
        "\n",
        "    '''Get coordinates'''\n",
        "    x_1, y_1 = xy[0], xy[1]\n",
        "    x_2, y_2 = xy[2], xy[3]\n",
        "    transform_y_1 = y_1/2.0 + 0.5 # Map to [0:1]\n",
        "    transform_y_2 = y_2/2.0 + 0.5\n",
        "\n",
        "    '''Calculate steering value'''\n",
        "    # arctan2 returns the angle between target point and longitudinal centerline\n",
        "    if current_lane == 'left':\n",
        "        #angle = np.arctan2(x_1, transform_y_1)\n",
        "        deviation = x_1\n",
        "    elif current_lane == 'right':\n",
        "        #angle = np.arctan2(x_2, transform_y_2)\n",
        "        deviation = x_2\n",
        "    pred_steering = -1 * steering_controller.calculate(deviation)\n",
        "\n",
        "    end_time = time.time()\n",
        "\n",
        "    '''Calculate throttle value based on road type'''\n",
        "    if current_lane == 'left':\n",
        "        transform_y = y_1 + 1.0\n",
        "        angle = np.arctan2(x_1, transform_y)\n",
        "    elif current_lane == 'right':\n",
        "        transform_y = y_2 + 1.0\n",
        "        angle = np.arctan2(x_2, transform_y)\n",
        "    # Return throttle value and road type\n",
        "    pred_throttle, curve_straight = throttle_controller.calculate(angle)\n",
        "\n",
        "    '''Output control signals'''\n",
        "    car.steering = pred_steering\n",
        "    car.throttle = pred_throttle * throttle_switch.value\n",
        "\n",
        "    end_time = time.time()\n",
        "\n",
        "    '''Visualize detection results and runtime status'''\n",
        "    # Draw target points and FPS on image\n",
        "    targets = [\n",
        "        [x_1, y_1, (0, 0, 255) if current_lane == 'left' else (0, 255, 0)],\n",
        "        [x_2, y_2,(0, 0, 255) if current_lane == 'right' else (0, 255, 0)]\n",
        "    ]\n",
        "    image = drawing(image, targets, 'FPS: %.2f'%(1/(end_time-first_time)), throttle_controller.get_threshold())\n",
        "\n",
        "    # Display information in text box\n",
        "\n",
        "    texts = [\n",
        "        'FPS: %.2f'%(1/(end_time-first_time)), # Show FPS\n",
        "        'target_1: (%.2f, %.2f) %s'%(x_1, y_1, 'follow' if current_lane == 'left' else ''), # Show first target coordinates\n",
        "        'target_2: (%.2f, %.2f) %s'%(x_2, y_2, 'follow' if current_lane == 'right' else ''), # Show second target coordinates\n",
        "        'steering: Kp:%.3f Ki:%.3f Kd:%.3f'%(steering_controller.get_value()),\n",
        "        'throttle: max: %.2f min: %.2f'%(throttle_controller.get_value()),\n",
        "        'pred_steering: %.2f'%(pred_steering),\n",
        "        'pred_throttle: %.2f'%(pred_throttle),\n",
        "        'state: %s %s'%(curve_straight, 'Speed up'if curve_straight == 'straight' else 'slow down')\n",
        "    ]\n",
        "    new_text = ''\n",
        "    for text in texts:\n",
        "        new_text += text\n",
        "        new_text += '\\n'\n",
        "    prediction_text.value = new_text\n",
        "    # Show results in slider\n",
        "    live_steering_slider.value = pred_steering\n",
        "    #live_throttle_slider.value = pred_throttle\n",
        "\n",
        "    live_image_widget.value = bgr8_to_jpeg(image)\n",
        "\n",
        "#camera.observe(execute, names='value')\n",
        "execute({'new': camera.value}) # Test run once"
      ]
    },
    {
      "cell_type": "markdown",
      "metadata": {
        "id": "8ZqjVb_S3bun"
      },
      "source": [
        "#### **7.2 Defining the Start Button**"
      ]
    },
    {
      "cell_type": "code",
      "execution_count": null,
      "metadata": {
        "id": "VNhaUdMz3buo"
      },
      "outputs": [],
      "source": [
        "start_button = ipywidgets.Button(description='START',button_style='danger', layout=ipywidgets.Layout(width='300px', height='28px'))\n",
        "start_widget = ipywidgets.VBox([\n",
        "    ipywidgets.Label('-'*50+' START RUN '+'-'*50),\n",
        "    start_button\n",
        "])\n",
        "\n",
        "def start_execute(change):\n",
        "    global steering_controller, steering_controller\n",
        "    if start_button.description == 'START':\n",
        "        steering_controller.reset()\n",
        "        throttle_controller.reset()\n",
        "        camera.observe(execute, names='value')\n",
        "        start_button.description = 'STOP'\n",
        "        start_button.button_style='warning'\n",
        "    else:\n",
        "        camera.unobserve(execute, names='value')\n",
        "        start_button.description = 'START'\n",
        "        start_button.button_style='danger'\n",
        "\n",
        "start_button.on_click(start_execute)"
      ]
    },
    {
      "cell_type": "markdown",
      "metadata": {
        "id": "u5tr6RVM3buo"
      },
      "source": [
        "## **8.  Visualization of Detection Results and Parameter Tuning Module**\n",
        "This section allows for control parameter tuning and validation of model prediction performance."
      ]
    },
    {
      "cell_type": "markdown",
      "metadata": {
        "id": "JNpsMIVI3buo"
      },
      "source": [
        "| Component | Function |\n",
        "|--------|-------------|\n",
        "| Throttle | Controls JetRacer's longitudinal movement |\n",
        "| Steering | Controls JetRacer's lateral movement |\n",
        "| SAFE | JetRacer homing (emergency stop) |\n",
        "| Kp(Proportional gain) | Controls PID proportional gain |\n",
        "| Ki(Integral gain) | Controls PID integral gain |\n",
        "| Kd(Derivative gain) | Controls PID derivative gain |\n",
        "| bias(Bias gain) | Controls PID bias gain |\n",
        "| live_steering | Displays current steering angle |\n",
        "| live_throttle | Displays current throttle value |\n",
        "| LEFT/RIGHT | Controls lane changing |\n",
        "| START | Movement start switch |"
      ]
    },
    {
      "cell_type": "code",
      "execution_count": null,
      "metadata": {
        "colab": {
          "referenced_widgets": [
            "1fe485490ef5452da55fe618edc403da"
          ]
        },
        "id": "vyitjKds3buo",
        "outputId": "9222a8a5-c331-453d-b3d2-80aa208a9e98"
      },
      "outputs": [
        {
          "data": {
            "application/vnd.jupyter.widget-view+json": {
              "model_id": "1fe485490ef5452da55fe618edc403da",
              "version_major": 2,
              "version_minor": 0
            },
            "text/plain": [
              "VBox(children=(HBox(children=(VBox(children=(VBox(children=(Label(value='------------------------ JetRacer 控制 …"
            ]
          },
          "metadata": {},
          "output_type": "display_data"
        }
      ],
      "source": [
        "display(\n",
        "    ipywidgets.VBox([\n",
        "        ipywidgets.HBox([\n",
        "            ipywidgets.VBox([jetracer_control_widgets,throttle_control_widgets]),\n",
        "            steering_control_widgets\n",
        "        ]),\n",
        "        live_widget,\n",
        "        change_lane_widgets,\n",
        "        start_widget\n",
        "    ])\n",
        ")"
      ]
    },
    {
      "cell_type": "markdown",
      "metadata": {
        "id": "T52iGwL33bup"
      },
      "source": [
        "## **9. release Camera and JetRacer**"
      ]
    },
    {
      "cell_type": "code",
      "execution_count": null,
      "metadata": {
        "id": "IBja869I3bup"
      },
      "outputs": [],
      "source": [
        "#car.stop()\n",
        "camera.stop()"
      ]
    }
  ],
  "metadata": {
    "kernelspec": {
      "display_name": "Python 3",
      "language": "python",
      "name": "python3"
    },
    "language_info": {
      "codemirror_mode": {
        "name": "ipython",
        "version": 3
      },
      "file_extension": ".py",
      "mimetype": "text/x-python",
      "name": "python",
      "nbconvert_exporter": "python",
      "pygments_lexer": "ipython3",
      "version": "3.8.5"
    },
    "colab": {
      "provenance": []
    }
  },
  "nbformat": 4,
  "nbformat_minor": 0
}