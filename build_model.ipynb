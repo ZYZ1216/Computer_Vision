{
  "cells": [
    {
      "cell_type": "markdown",
      "metadata": {
        "id": "SkQBDRRByWkV"
      },
      "source": [
        "# **Road Following - Building TensorRT Models to Accelerate Inference**"
      ]
    },
    {
      "cell_type": "markdown",
      "metadata": {
        "id": "40egTdBGyWkW"
      },
      "source": [
        "### **1. Define model**"
      ]
    },
    {
      "cell_type": "code",
      "execution_count": null,
      "metadata": {
        "id": "UXOSFuOHyWkX"
      },
      "outputs": [],
      "source": [
        "import torchvision\n",
        "import torch\n",
        "\n",
        "target_number = 2\n",
        "model = torchvision.models.resnet18(pretrained=False)\n",
        "model.fc = torch.nn.Linear(512, 2*target_number)\n",
        "model = model.cuda().eval().half()"
      ]
    },
    {
      "cell_type": "markdown",
      "metadata": {
        "id": "DIYo_2NayWkX"
      },
      "source": [
        "### **2. Load**"
      ]
    },
    {
      "cell_type": "code",
      "execution_count": null,
      "metadata": {
        "id": "K-zYKZ1PyWkY"
      },
      "outputs": [],
      "source": [
        "model.load_state_dict(torch.load('model/best_follow_xy1_double_target_50epochs.pth'))"
      ]
    },
    {
      "cell_type": "markdown",
      "metadata": {
        "id": "cjCvQTNqyWkY"
      },
      "source": [
        "### **3. Transfer model weights to GPU**"
      ]
    },
    {
      "cell_type": "code",
      "execution_count": null,
      "metadata": {
        "id": "KL5ifj0uyWkY"
      },
      "outputs": [],
      "source": [
        "device = torch.device('cuda')\n",
        "model.to(device)"
      ]
    },
    {
      "cell_type": "markdown",
      "metadata": {
        "id": "AyE_dXL9yWkY"
      },
      "source": [
        "### **3. Build TensorRT engine**"
      ]
    },
    {
      "cell_type": "code",
      "execution_count": null,
      "metadata": {
        "id": "_LDNvyfxyWkZ"
      },
      "outputs": [],
      "source": [
        "from torch2trt import torch2trt\n",
        "\n",
        "data = torch.zeros((1, 3, 224, 224)).cuda().half()\n",
        "\n",
        "model_trt = torch2trt(model, [data], fp16_mode=True)"
      ]
    },
    {
      "cell_type": "markdown",
      "metadata": {
        "id": "QXLfoSfMyWkZ"
      },
      "source": [
        "### **4. save trt**"
      ]
    },
    {
      "cell_type": "code",
      "execution_count": null,
      "metadata": {
        "id": "npjd_GUGyWkZ"
      },
      "outputs": [],
      "source": [
        "torch.save(model_trt.state_dict(), 'model/best_follow_xy1_double_target_50epochs_trt.pth')"
      ]
    },
    {
      "cell_type": "code",
      "execution_count": null,
      "metadata": {
        "id": "9vgkyVNmyWkZ"
      },
      "outputs": [],
      "source": []
    }
  ],
  "metadata": {
    "kernelspec": {
      "display_name": "Python 3",
      "language": "python",
      "name": "python3"
    },
    "language_info": {
      "codemirror_mode": {
        "name": "ipython",
        "version": 3
      },
      "file_extension": ".py",
      "mimetype": "text/x-python",
      "name": "python",
      "nbconvert_exporter": "python",
      "pygments_lexer": "ipython3",
      "version": "3.8.5"
    },
    "colab": {
      "provenance": []
    }
  },
  "nbformat": 4,
  "nbformat_minor": 0
}